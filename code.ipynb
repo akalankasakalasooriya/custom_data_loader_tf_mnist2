{
 "cells": [
  {
   "cell_type": "code",
   "execution_count": null,
   "metadata": {},
   "outputs": [],
   "source": [
    "import pandas as pd\n",
    "import os\n",
    "import tensorflow as tf"
   ]
  },
  {
   "cell_type": "code",
   "execution_count": null,
   "metadata": {},
   "outputs": [],
   "source": [
    "base_path = \"./data\"\n",
    "train_csv_path = os.path.join(base_path,\"train.csv\")\n",
    "test_csv_path = os.path.join(base_path,\"test.csv\")"
   ]
  },
  {
   "cell_type": "code",
   "execution_count": null,
   "metadata": {},
   "outputs": [],
   "source": [
    "train_df = pd.read_csv(train_csv_path)\n",
    "train_file_names = train_df[\"file_name\"].apply(lambda img_name:os.path.join(base_path,\"train\",img_name)).values\n",
    "labels = list(zip(train_df[\"label_1\"],train_df[\"label_2\"]))\n",
    "files_and_labels = (train_file_names,labels)"
   ]
  },
  {
   "cell_type": "code",
   "execution_count": null,
   "metadata": {},
   "outputs": [],
   "source": [
    "def custom_process(path,label):\n",
    "    img = tf.io.read_file(path)\n",
    "    img = tf.io.decode_png(img,channels=1)\n",
    "    img = tf.image.convert_image_dtype(img,tf.float32)\n",
    "    img = tf.image.resize(img,(64,64))\n",
    "    # \n",
    "    labels = {'first_num':label[0],'second_num':label[1]}\n",
    "    return img,labels\n",
    "\n"
   ]
  },
  {
   "cell_type": "code",
   "execution_count": null,
   "metadata": {},
   "outputs": [],
   "source": [
    "train_ds = tf.data.Dataset.from_tensor_slices(files_and_labels)\n",
    "#tf.data.AUTOTUNE\n",
    "train_ds = train_ds.map(custom_process,num_parallel_calls=tf.data.experimental.AUTOTUNE)\n",
    "train_ds = train_ds.shuffle(buffer_size=len(train_ds))\n",
    "train_ds = train_ds.batch(64)"
   ]
  },
  {
   "cell_type": "code",
   "execution_count": null,
   "metadata": {},
   "outputs": [],
   "source": [
    "for image,labels in train_ds.take(1):\n",
    "    print('Image shape:',image.numpy().shape)\n",
    "    print('Labels:',labels)"
   ]
  }
 ],
 "metadata": {
  "kernelspec": {
   "display_name": "tf",
   "language": "python",
   "name": "python3"
  },
  "language_info": {
   "codemirror_mode": {
    "name": "ipython",
    "version": 3
   },
   "file_extension": ".py",
   "mimetype": "text/x-python",
   "name": "python",
   "nbconvert_exporter": "python",
   "pygments_lexer": "ipython3",
   "version": "3.8.13"
  },
  "orig_nbformat": 4
 },
 "nbformat": 4,
 "nbformat_minor": 2
}
